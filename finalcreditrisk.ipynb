{
 "cells": [
  {
   "cell_type": "code",
   "execution_count": 163,
   "metadata": {},
   "outputs": [],
   "source": [
    "import pandas as pd\n",
    "import matplotlib.pyplot as plt"
   ]
  },
  {
   "cell_type": "markdown",
   "metadata": {},
   "source": [
    "# Análise de Risco de Crédito\n",
    "\n",
    "## Objetivo do Dataset\n",
    "\n",
    "Neste notebook, vamos explorar o dataset de risco de crédito para entender os fatores que influenciam a concessão de crédito e identificar potenciais riscos associados aos empréstimos. Vamos realizar uma análise exploratória dos dados e transformar as colunas do dataset para facilitar a compreensão.\n"
   ]
  },
  {
   "cell_type": "code",
   "execution_count": 164,
   "metadata": {},
   "outputs": [
    {
     "data": {
      "text/html": [
       "<div>\n",
       "<style scoped>\n",
       "    .dataframe tbody tr th:only-of-type {\n",
       "        vertical-align: middle;\n",
       "    }\n",
       "\n",
       "    .dataframe tbody tr th {\n",
       "        vertical-align: top;\n",
       "    }\n",
       "\n",
       "    .dataframe thead th {\n",
       "        text-align: right;\n",
       "    }\n",
       "</style>\n",
       "<table border=\"1\" class=\"dataframe\">\n",
       "  <thead>\n",
       "    <tr style=\"text-align: right;\">\n",
       "      <th></th>\n",
       "      <th>person_age</th>\n",
       "      <th>person_income</th>\n",
       "      <th>person_home_ownership</th>\n",
       "      <th>person_emp_length</th>\n",
       "      <th>loan_intent</th>\n",
       "      <th>loan_grade</th>\n",
       "      <th>loan_amnt</th>\n",
       "      <th>loan_int_rate</th>\n",
       "      <th>loan_status</th>\n",
       "      <th>loan_percent_income</th>\n",
       "      <th>cb_person_default_on_file</th>\n",
       "      <th>cb_person_cred_hist_length</th>\n",
       "    </tr>\n",
       "  </thead>\n",
       "  <tbody>\n",
       "    <tr>\n",
       "      <th>0</th>\n",
       "      <td>22</td>\n",
       "      <td>59000</td>\n",
       "      <td>RENT</td>\n",
       "      <td>123.0</td>\n",
       "      <td>PERSONAL</td>\n",
       "      <td>D</td>\n",
       "      <td>35000</td>\n",
       "      <td>16.02</td>\n",
       "      <td>1</td>\n",
       "      <td>0.59</td>\n",
       "      <td>Y</td>\n",
       "      <td>3</td>\n",
       "    </tr>\n",
       "    <tr>\n",
       "      <th>1</th>\n",
       "      <td>21</td>\n",
       "      <td>9600</td>\n",
       "      <td>OWN</td>\n",
       "      <td>5.0</td>\n",
       "      <td>EDUCATION</td>\n",
       "      <td>B</td>\n",
       "      <td>1000</td>\n",
       "      <td>11.14</td>\n",
       "      <td>0</td>\n",
       "      <td>0.10</td>\n",
       "      <td>N</td>\n",
       "      <td>2</td>\n",
       "    </tr>\n",
       "    <tr>\n",
       "      <th>2</th>\n",
       "      <td>25</td>\n",
       "      <td>9600</td>\n",
       "      <td>MORTGAGE</td>\n",
       "      <td>1.0</td>\n",
       "      <td>MEDICAL</td>\n",
       "      <td>C</td>\n",
       "      <td>5500</td>\n",
       "      <td>12.87</td>\n",
       "      <td>1</td>\n",
       "      <td>0.57</td>\n",
       "      <td>N</td>\n",
       "      <td>3</td>\n",
       "    </tr>\n",
       "    <tr>\n",
       "      <th>3</th>\n",
       "      <td>23</td>\n",
       "      <td>65500</td>\n",
       "      <td>RENT</td>\n",
       "      <td>4.0</td>\n",
       "      <td>MEDICAL</td>\n",
       "      <td>C</td>\n",
       "      <td>35000</td>\n",
       "      <td>15.23</td>\n",
       "      <td>1</td>\n",
       "      <td>0.53</td>\n",
       "      <td>N</td>\n",
       "      <td>2</td>\n",
       "    </tr>\n",
       "    <tr>\n",
       "      <th>4</th>\n",
       "      <td>24</td>\n",
       "      <td>54400</td>\n",
       "      <td>RENT</td>\n",
       "      <td>8.0</td>\n",
       "      <td>MEDICAL</td>\n",
       "      <td>C</td>\n",
       "      <td>35000</td>\n",
       "      <td>14.27</td>\n",
       "      <td>1</td>\n",
       "      <td>0.55</td>\n",
       "      <td>Y</td>\n",
       "      <td>4</td>\n",
       "    </tr>\n",
       "  </tbody>\n",
       "</table>\n",
       "</div>"
      ],
      "text/plain": [
       "   person_age  person_income person_home_ownership  person_emp_length  \\\n",
       "0          22          59000                  RENT              123.0   \n",
       "1          21           9600                   OWN                5.0   \n",
       "2          25           9600              MORTGAGE                1.0   \n",
       "3          23          65500                  RENT                4.0   \n",
       "4          24          54400                  RENT                8.0   \n",
       "\n",
       "  loan_intent loan_grade  loan_amnt  loan_int_rate  loan_status  \\\n",
       "0    PERSONAL          D      35000          16.02            1   \n",
       "1   EDUCATION          B       1000          11.14            0   \n",
       "2     MEDICAL          C       5500          12.87            1   \n",
       "3     MEDICAL          C      35000          15.23            1   \n",
       "4     MEDICAL          C      35000          14.27            1   \n",
       "\n",
       "   loan_percent_income cb_person_default_on_file  cb_person_cred_hist_length  \n",
       "0                 0.59                         Y                           3  \n",
       "1                 0.10                         N                           2  \n",
       "2                 0.57                         N                           3  \n",
       "3                 0.53                         N                           2  \n",
       "4                 0.55                         Y                           4  "
      ]
     },
     "execution_count": 164,
     "metadata": {},
     "output_type": "execute_result"
    }
   ],
   "source": [
    "# Carregar o dataset\n",
    "url = 'credit_risk_dataset.csv'  \n",
    "df = pd.read_csv(url)\n",
    "\n",
    "# Exibir as primeiras linhas do dataframe\n",
    "df.head()"
   ]
  },
  {
   "cell_type": "markdown",
   "metadata": {},
   "source": [
    "## Descrição do Dataset\n",
    "\n",
    "Vamos utilizar a função `describe()` para obter uma visão geral estatística do nosso dataset.\n"
   ]
  },
  {
   "cell_type": "code",
   "execution_count": 165,
   "metadata": {},
   "outputs": [
    {
     "data": {
      "text/html": [
       "<div>\n",
       "<style scoped>\n",
       "    .dataframe tbody tr th:only-of-type {\n",
       "        vertical-align: middle;\n",
       "    }\n",
       "\n",
       "    .dataframe tbody tr th {\n",
       "        vertical-align: top;\n",
       "    }\n",
       "\n",
       "    .dataframe thead th {\n",
       "        text-align: right;\n",
       "    }\n",
       "</style>\n",
       "<table border=\"1\" class=\"dataframe\">\n",
       "  <thead>\n",
       "    <tr style=\"text-align: right;\">\n",
       "      <th></th>\n",
       "      <th>person_age</th>\n",
       "      <th>person_income</th>\n",
       "      <th>person_emp_length</th>\n",
       "      <th>loan_amnt</th>\n",
       "      <th>loan_int_rate</th>\n",
       "      <th>loan_status</th>\n",
       "      <th>loan_percent_income</th>\n",
       "      <th>cb_person_cred_hist_length</th>\n",
       "    </tr>\n",
       "  </thead>\n",
       "  <tbody>\n",
       "    <tr>\n",
       "      <th>count</th>\n",
       "      <td>32581.000000</td>\n",
       "      <td>3.258100e+04</td>\n",
       "      <td>31686.000000</td>\n",
       "      <td>32581.000000</td>\n",
       "      <td>29465.000000</td>\n",
       "      <td>32581.000000</td>\n",
       "      <td>32581.000000</td>\n",
       "      <td>32581.000000</td>\n",
       "    </tr>\n",
       "    <tr>\n",
       "      <th>mean</th>\n",
       "      <td>27.734600</td>\n",
       "      <td>6.607485e+04</td>\n",
       "      <td>4.789686</td>\n",
       "      <td>9589.371106</td>\n",
       "      <td>11.011695</td>\n",
       "      <td>0.218164</td>\n",
       "      <td>0.170203</td>\n",
       "      <td>5.804211</td>\n",
       "    </tr>\n",
       "    <tr>\n",
       "      <th>std</th>\n",
       "      <td>6.348078</td>\n",
       "      <td>6.198312e+04</td>\n",
       "      <td>4.142630</td>\n",
       "      <td>6322.086646</td>\n",
       "      <td>3.240459</td>\n",
       "      <td>0.413006</td>\n",
       "      <td>0.106782</td>\n",
       "      <td>4.055001</td>\n",
       "    </tr>\n",
       "    <tr>\n",
       "      <th>min</th>\n",
       "      <td>20.000000</td>\n",
       "      <td>4.000000e+03</td>\n",
       "      <td>0.000000</td>\n",
       "      <td>500.000000</td>\n",
       "      <td>5.420000</td>\n",
       "      <td>0.000000</td>\n",
       "      <td>0.000000</td>\n",
       "      <td>2.000000</td>\n",
       "    </tr>\n",
       "    <tr>\n",
       "      <th>25%</th>\n",
       "      <td>23.000000</td>\n",
       "      <td>3.850000e+04</td>\n",
       "      <td>2.000000</td>\n",
       "      <td>5000.000000</td>\n",
       "      <td>7.900000</td>\n",
       "      <td>0.000000</td>\n",
       "      <td>0.090000</td>\n",
       "      <td>3.000000</td>\n",
       "    </tr>\n",
       "    <tr>\n",
       "      <th>50%</th>\n",
       "      <td>26.000000</td>\n",
       "      <td>5.500000e+04</td>\n",
       "      <td>4.000000</td>\n",
       "      <td>8000.000000</td>\n",
       "      <td>10.990000</td>\n",
       "      <td>0.000000</td>\n",
       "      <td>0.150000</td>\n",
       "      <td>4.000000</td>\n",
       "    </tr>\n",
       "    <tr>\n",
       "      <th>75%</th>\n",
       "      <td>30.000000</td>\n",
       "      <td>7.920000e+04</td>\n",
       "      <td>7.000000</td>\n",
       "      <td>12200.000000</td>\n",
       "      <td>13.470000</td>\n",
       "      <td>0.000000</td>\n",
       "      <td>0.230000</td>\n",
       "      <td>8.000000</td>\n",
       "    </tr>\n",
       "    <tr>\n",
       "      <th>max</th>\n",
       "      <td>144.000000</td>\n",
       "      <td>6.000000e+06</td>\n",
       "      <td>123.000000</td>\n",
       "      <td>35000.000000</td>\n",
       "      <td>23.220000</td>\n",
       "      <td>1.000000</td>\n",
       "      <td>0.830000</td>\n",
       "      <td>30.000000</td>\n",
       "    </tr>\n",
       "  </tbody>\n",
       "</table>\n",
       "</div>"
      ],
      "text/plain": [
       "         person_age  person_income  person_emp_length     loan_amnt  \\\n",
       "count  32581.000000   3.258100e+04       31686.000000  32581.000000   \n",
       "mean      27.734600   6.607485e+04           4.789686   9589.371106   \n",
       "std        6.348078   6.198312e+04           4.142630   6322.086646   \n",
       "min       20.000000   4.000000e+03           0.000000    500.000000   \n",
       "25%       23.000000   3.850000e+04           2.000000   5000.000000   \n",
       "50%       26.000000   5.500000e+04           4.000000   8000.000000   \n",
       "75%       30.000000   7.920000e+04           7.000000  12200.000000   \n",
       "max      144.000000   6.000000e+06         123.000000  35000.000000   \n",
       "\n",
       "       loan_int_rate   loan_status  loan_percent_income  \\\n",
       "count   29465.000000  32581.000000         32581.000000   \n",
       "mean       11.011695      0.218164             0.170203   \n",
       "std         3.240459      0.413006             0.106782   \n",
       "min         5.420000      0.000000             0.000000   \n",
       "25%         7.900000      0.000000             0.090000   \n",
       "50%        10.990000      0.000000             0.150000   \n",
       "75%        13.470000      0.000000             0.230000   \n",
       "max        23.220000      1.000000             0.830000   \n",
       "\n",
       "       cb_person_cred_hist_length  \n",
       "count                32581.000000  \n",
       "mean                     5.804211  \n",
       "std                      4.055001  \n",
       "min                      2.000000  \n",
       "25%                      3.000000  \n",
       "50%                      4.000000  \n",
       "75%                      8.000000  \n",
       "max                     30.000000  "
      ]
     },
     "execution_count": 165,
     "metadata": {},
     "output_type": "execute_result"
    }
   ],
   "source": [
    "# Descrição estatística do dataset\n",
    "df.describe()"
   ]
  },
  {
   "cell_type": "markdown",
   "metadata": {},
   "source": [
    "## Transformação do Dataset para Português\n",
    "\n",
    "Vamos renomear as colunas do dataset para o idioma português para facilitar a análise.\n"
   ]
  },
  {
   "cell_type": "code",
   "execution_count": 166,
   "metadata": {},
   "outputs": [
    {
     "name": "stdout",
     "output_type": "stream",
     "text": [
      "Index(['person_age', 'person_income', 'person_home_ownership',\n",
      "       'person_emp_length', 'loan_intent', 'loan_grade', 'loan_amnt',\n",
      "       'loan_int_rate', 'loan_status', 'loan_percent_income',\n",
      "       'cb_person_default_on_file', 'cb_person_cred_hist_length'],\n",
      "      dtype='object')\n"
     ]
    }
   ],
   "source": [
    "print(df.columns)"
   ]
  },
  {
   "cell_type": "code",
   "execution_count": 167,
   "metadata": {},
   "outputs": [
    {
     "data": {
      "text/html": [
       "<div>\n",
       "<style scoped>\n",
       "    .dataframe tbody tr th:only-of-type {\n",
       "        vertical-align: middle;\n",
       "    }\n",
       "\n",
       "    .dataframe tbody tr th {\n",
       "        vertical-align: top;\n",
       "    }\n",
       "\n",
       "    .dataframe thead th {\n",
       "        text-align: right;\n",
       "    }\n",
       "</style>\n",
       "<table border=\"1\" class=\"dataframe\">\n",
       "  <thead>\n",
       "    <tr style=\"text-align: right;\">\n",
       "      <th></th>\n",
       "      <th>Idade</th>\n",
       "      <th>Renda</th>\n",
       "      <th>Propriedade_Casa</th>\n",
       "      <th>Tempo_Emprego</th>\n",
       "      <th>Intenção_Empréstimo</th>\n",
       "      <th>Nota_Empréstimo</th>\n",
       "      <th>Valor_Empréstimo</th>\n",
       "      <th>Taxa_Juros</th>\n",
       "      <th>Status_Empréstimo</th>\n",
       "      <th>Percentual_Renda_Empréstimo</th>\n",
       "      <th>Default_Pessoa_Cadastro</th>\n",
       "      <th>Histórico_Crédito</th>\n",
       "    </tr>\n",
       "  </thead>\n",
       "  <tbody>\n",
       "    <tr>\n",
       "      <th>0</th>\n",
       "      <td>22</td>\n",
       "      <td>59000</td>\n",
       "      <td>RENT</td>\n",
       "      <td>123.0</td>\n",
       "      <td>PERSONAL</td>\n",
       "      <td>D</td>\n",
       "      <td>35000</td>\n",
       "      <td>16.02</td>\n",
       "      <td>1</td>\n",
       "      <td>0.59</td>\n",
       "      <td>Y</td>\n",
       "      <td>3</td>\n",
       "    </tr>\n",
       "    <tr>\n",
       "      <th>1</th>\n",
       "      <td>21</td>\n",
       "      <td>9600</td>\n",
       "      <td>OWN</td>\n",
       "      <td>5.0</td>\n",
       "      <td>EDUCATION</td>\n",
       "      <td>B</td>\n",
       "      <td>1000</td>\n",
       "      <td>11.14</td>\n",
       "      <td>0</td>\n",
       "      <td>0.10</td>\n",
       "      <td>N</td>\n",
       "      <td>2</td>\n",
       "    </tr>\n",
       "    <tr>\n",
       "      <th>2</th>\n",
       "      <td>25</td>\n",
       "      <td>9600</td>\n",
       "      <td>MORTGAGE</td>\n",
       "      <td>1.0</td>\n",
       "      <td>MEDICAL</td>\n",
       "      <td>C</td>\n",
       "      <td>5500</td>\n",
       "      <td>12.87</td>\n",
       "      <td>1</td>\n",
       "      <td>0.57</td>\n",
       "      <td>N</td>\n",
       "      <td>3</td>\n",
       "    </tr>\n",
       "    <tr>\n",
       "      <th>3</th>\n",
       "      <td>23</td>\n",
       "      <td>65500</td>\n",
       "      <td>RENT</td>\n",
       "      <td>4.0</td>\n",
       "      <td>MEDICAL</td>\n",
       "      <td>C</td>\n",
       "      <td>35000</td>\n",
       "      <td>15.23</td>\n",
       "      <td>1</td>\n",
       "      <td>0.53</td>\n",
       "      <td>N</td>\n",
       "      <td>2</td>\n",
       "    </tr>\n",
       "    <tr>\n",
       "      <th>4</th>\n",
       "      <td>24</td>\n",
       "      <td>54400</td>\n",
       "      <td>RENT</td>\n",
       "      <td>8.0</td>\n",
       "      <td>MEDICAL</td>\n",
       "      <td>C</td>\n",
       "      <td>35000</td>\n",
       "      <td>14.27</td>\n",
       "      <td>1</td>\n",
       "      <td>0.55</td>\n",
       "      <td>Y</td>\n",
       "      <td>4</td>\n",
       "    </tr>\n",
       "  </tbody>\n",
       "</table>\n",
       "</div>"
      ],
      "text/plain": [
       "   Idade  Renda Propriedade_Casa  Tempo_Emprego Intenção_Empréstimo  \\\n",
       "0     22  59000             RENT          123.0            PERSONAL   \n",
       "1     21   9600              OWN            5.0           EDUCATION   \n",
       "2     25   9600         MORTGAGE            1.0             MEDICAL   \n",
       "3     23  65500             RENT            4.0             MEDICAL   \n",
       "4     24  54400             RENT            8.0             MEDICAL   \n",
       "\n",
       "  Nota_Empréstimo  Valor_Empréstimo  Taxa_Juros  Status_Empréstimo  \\\n",
       "0               D             35000       16.02                  1   \n",
       "1               B              1000       11.14                  0   \n",
       "2               C              5500       12.87                  1   \n",
       "3               C             35000       15.23                  1   \n",
       "4               C             35000       14.27                  1   \n",
       "\n",
       "   Percentual_Renda_Empréstimo Default_Pessoa_Cadastro  Histórico_Crédito  \n",
       "0                         0.59                       Y                  3  \n",
       "1                         0.10                       N                  2  \n",
       "2                         0.57                       N                  3  \n",
       "3                         0.53                       N                  2  \n",
       "4                         0.55                       Y                  4  "
      ]
     },
     "execution_count": 167,
     "metadata": {},
     "output_type": "execute_result"
    }
   ],
   "source": [
    "# Renomear as colunas para português\n",
    "colunas_novas = {\n",
    "    'person_age': 'Idade',\n",
    "    'person_income': 'Renda',\n",
    "    'person_home_ownership': 'Propriedade_Casa',\n",
    "    'person_emp_length': 'Tempo_Emprego',\n",
    "    'loan_intent': 'Intenção_Empréstimo',\n",
    "    'loan_grade': 'Nota_Empréstimo',\n",
    "    'loan_amnt': 'Valor_Empréstimo',\n",
    "    'loan_int_rate': 'Taxa_Juros',\n",
    "    'loan_status': 'Status_Empréstimo',\n",
    "    'loan_percent_income': 'Percentual_Renda_Empréstimo',\n",
    "    'cb_person_default_on_file': 'Default_Pessoa_Cadastro',\n",
    "    'cb_person_cred_hist_length': 'Histórico_Crédito'\n",
    "}\n",
    "\n",
    "df.rename(columns=colunas_novas, inplace=True)\n",
    "\n",
    "# Exibir as primeiras linhas do DataFrame com as colunas renomeadas\n",
    "df.head()\n"
   ]
  },
  {
   "cell_type": "markdown",
   "metadata": {},
   "source": [
    "## Análise Exploratória dos Dados (EDA)\n",
    "\n",
    "Vamos realizar uma análise exploratória dos dados para entender as características quantitativas e qualitativas.\n"
   ]
  },
  {
   "cell_type": "markdown",
   "metadata": {},
   "source": [
    "## Análise Quantitativa\n",
    "\n",
    "### Dados Discretos e Contínuos"
   ]
  },
  {
   "cell_type": "code",
   "execution_count": 168,
   "metadata": {},
   "outputs": [
    {
     "name": "stdout",
     "output_type": "stream",
     "text": [
      "Contagem de Tempo de Emprego:\n",
      "Tempo_Emprego\n",
      "0.0      4105\n",
      "2.0      3849\n",
      "3.0      3456\n",
      "5.0      2946\n",
      "1.0      2915\n",
      "4.0      2874\n",
      "6.0      2666\n",
      "7.0      2196\n",
      "8.0      1687\n",
      "9.0      1367\n",
      "11.0      740\n",
      "10.0      696\n",
      "12.0      575\n",
      "13.0      426\n",
      "14.0      335\n",
      "15.0      238\n",
      "16.0      165\n",
      "17.0      129\n",
      "18.0      104\n",
      "19.0       64\n",
      "20.0       42\n",
      "21.0       38\n",
      "22.0       19\n",
      "24.0       10\n",
      "23.0       10\n",
      "25.0        8\n",
      "26.0        6\n",
      "27.0        5\n",
      "31.0        4\n",
      "28.0        3\n",
      "123.0       2\n",
      "30.0        2\n",
      "41.0        1\n",
      "34.0        1\n",
      "29.0        1\n",
      "38.0        1\n",
      "Name: count, dtype: int64\n"
     ]
    }
   ],
   "source": [
    "# Dados Discretos: Tempo de Emprego (anos)\n",
    "print(\"Contagem de Tempo de Emprego:\")\n",
    "print(df['Tempo_Emprego'].value_counts())\n"
   ]
  },
  {
   "cell_type": "code",
   "execution_count": 169,
   "metadata": {},
   "outputs": [
    {
     "name": "stdout",
     "output_type": "stream",
     "text": [
      "Estatísticas descritivas da Renda:\n",
      "count    3.258100e+04\n",
      "mean     6.607485e+04\n",
      "std      6.198312e+04\n",
      "min      4.000000e+03\n",
      "25%      3.850000e+04\n",
      "50%      5.500000e+04\n",
      "75%      7.920000e+04\n",
      "max      6.000000e+06\n",
      "Name: Renda, dtype: float64\n",
      "Estatísticas descritivas do Valor do Empréstimo:\n",
      "count    32581.000000\n",
      "mean      9589.371106\n",
      "std       6322.086646\n",
      "min        500.000000\n",
      "25%       5000.000000\n",
      "50%       8000.000000\n",
      "75%      12200.000000\n",
      "max      35000.000000\n",
      "Name: Valor_Empréstimo, dtype: float64\n"
     ]
    }
   ],
   "source": [
    "# Dados Contínuos: Renda e Valor do Empréstimo\n",
    "print(\"Estatísticas descritivas da Renda:\")\n",
    "print(df['Renda'].describe())\n",
    "\n",
    "print(\"Estatísticas descritivas do Valor do Empréstimo:\")\n",
    "print(df['Valor_Empréstimo'].describe())"
   ]
  },
  {
   "cell_type": "markdown",
   "metadata": {},
   "source": [
    "### Análise Qualitativa\n",
    "\n",
    "### Dados Nominais e Ordinais\n",
    "\n"
   ]
  },
  {
   "cell_type": "code",
   "execution_count": 170,
   "metadata": {},
   "outputs": [
    {
     "name": "stdout",
     "output_type": "stream",
     "text": [
      "Distribuição da Propriedade da Casa:\n",
      "Propriedade_Casa\n",
      "RENT        16446\n",
      "MORTGAGE    13444\n",
      "OWN          2584\n",
      "OTHER         107\n",
      "Name: count, dtype: int64\n",
      "Distribuição do Status de Empréstimo:\n",
      "Status_Empréstimo\n",
      "0    25473\n",
      "1     7108\n",
      "Name: count, dtype: int64\n",
      "Distribuição do Default de Pessoa no Cadastro:\n",
      "Default_Pessoa_Cadastro\n",
      "N    26836\n",
      "Y     5745\n",
      "Name: count, dtype: int64\n"
     ]
    }
   ],
   "source": [
    "# Dados nominais: Propriedade da Casa, Status de Empréstimo e Default no Cadastro\n",
    "print(\"Distribuição da Propriedade da Casa:\")\n",
    "print(df['Propriedade_Casa'].value_counts())\n",
    "\n",
    "print(\"Distribuição do Status de Empréstimo:\")\n",
    "print(df['Status_Empréstimo'].value_counts())\n",
    "\n",
    "print(\"Distribuição do Default de Pessoa no Cadastro:\")\n",
    "print(df['Default_Pessoa_Cadastro'].value_counts())\n"
   ]
  },
  {
   "cell_type": "code",
   "execution_count": 171,
   "metadata": {},
   "outputs": [
    {
     "name": "stdout",
     "output_type": "stream",
     "text": [
      "Distribuição da Nota do Empréstimo:\n",
      "Nota_Empréstimo\n",
      "A    10777\n",
      "B    10451\n",
      "C     6458\n",
      "D     3626\n",
      "E      964\n",
      "F      241\n",
      "G       64\n",
      "Name: count, dtype: int64\n",
      "Distribuição da Intenção do Empréstimo:\n",
      "Intenção_Empréstimo\n",
      "EDUCATION            6453\n",
      "MEDICAL              6071\n",
      "VENTURE              5719\n",
      "PERSONAL             5521\n",
      "DEBTCONSOLIDATION    5212\n",
      "HOMEIMPROVEMENT      3605\n",
      "Name: count, dtype: int64\n"
     ]
    }
   ],
   "source": [
    "# Dados ordinais: Nota do Empréstimo e Intenção do Empréstimo\n",
    "print(\"Distribuição da Nota do Empréstimo:\")\n",
    "print(df['Nota_Empréstimo'].value_counts())\n",
    "\n",
    "print(\"Distribuição da Intenção do Empréstimo:\")\n",
    "print(df['Intenção_Empréstimo'].value_counts())"
   ]
  },
  {
   "cell_type": "markdown",
   "metadata": {},
   "source": [
    "## Pesquisa sobre Termos Estatísticos\n",
    "\n",
    "- **Quartil:** Divisões do conjunto de dados em quatro partes iguais.\n",
    "- **Percentil:** Divisões do conjunto de dados em 100 partes iguais.\n",
    "- **Média:** A soma dos valores dividida pelo número total de valores.\n",
    "- **Mediana:** O valor central quando os dados estão ordenados.\n"
   ]
  },
  {
   "cell_type": "markdown",
   "metadata": {},
   "source": [
    "## Descrição Estatística"
   ]
  },
  {
   "cell_type": "code",
   "execution_count": 172,
   "metadata": {},
   "outputs": [
    {
     "name": "stdout",
     "output_type": "stream",
     "text": [
      "               Idade         Renda Propriedade_Casa  Tempo_Emprego  \\\n",
      "count   32581.000000  3.258100e+04            32581   31686.000000   \n",
      "unique           NaN           NaN                4            NaN   \n",
      "top              NaN           NaN             RENT            NaN   \n",
      "freq             NaN           NaN            16446            NaN   \n",
      "mean       27.734600  6.607485e+04              NaN       4.789686   \n",
      "std         6.348078  6.198312e+04              NaN       4.142630   \n",
      "min        20.000000  4.000000e+03              NaN       0.000000   \n",
      "25%        23.000000  3.850000e+04              NaN       2.000000   \n",
      "50%        26.000000  5.500000e+04              NaN       4.000000   \n",
      "75%        30.000000  7.920000e+04              NaN       7.000000   \n",
      "max       144.000000  6.000000e+06              NaN     123.000000   \n",
      "\n",
      "       Intenção_Empréstimo Nota_Empréstimo  Valor_Empréstimo    Taxa_Juros  \\\n",
      "count                32581           32581      32581.000000  29465.000000   \n",
      "unique                   6               7               NaN           NaN   \n",
      "top              EDUCATION               A               NaN           NaN   \n",
      "freq                  6453           10777               NaN           NaN   \n",
      "mean                   NaN             NaN       9589.371106     11.011695   \n",
      "std                    NaN             NaN       6322.086646      3.240459   \n",
      "min                    NaN             NaN        500.000000      5.420000   \n",
      "25%                    NaN             NaN       5000.000000      7.900000   \n",
      "50%                    NaN             NaN       8000.000000     10.990000   \n",
      "75%                    NaN             NaN      12200.000000     13.470000   \n",
      "max                    NaN             NaN      35000.000000     23.220000   \n",
      "\n",
      "        Status_Empréstimo  Percentual_Renda_Empréstimo  \\\n",
      "count        32581.000000                 32581.000000   \n",
      "unique                NaN                          NaN   \n",
      "top                   NaN                          NaN   \n",
      "freq                  NaN                          NaN   \n",
      "mean             0.218164                     0.170203   \n",
      "std              0.413006                     0.106782   \n",
      "min              0.000000                     0.000000   \n",
      "25%              0.000000                     0.090000   \n",
      "50%              0.000000                     0.150000   \n",
      "75%              0.000000                     0.230000   \n",
      "max              1.000000                     0.830000   \n",
      "\n",
      "       Default_Pessoa_Cadastro  Histórico_Crédito  \n",
      "count                    32581       32581.000000  \n",
      "unique                       2                NaN  \n",
      "top                          N                NaN  \n",
      "freq                     26836                NaN  \n",
      "mean                       NaN           5.804211  \n",
      "std                        NaN           4.055001  \n",
      "min                        NaN           2.000000  \n",
      "25%                        NaN           3.000000  \n",
      "50%                        NaN           4.000000  \n",
      "75%                        NaN           8.000000  \n",
      "max                        NaN          30.000000  \n"
     ]
    }
   ],
   "source": [
    "# Descrição estatística do DataFrame\n",
    "print(df.describe(include='all'))\n"
   ]
  },
  {
   "cell_type": "code",
   "execution_count": 173,
   "metadata": {},
   "outputs": [
    {
     "name": "stdout",
     "output_type": "stream",
     "text": [
      "Status_Empréstimo\n",
      "0    0.781836\n",
      "1    0.218164\n",
      "Name: proportion, dtype: float64\n",
      "Média da Renda: 66074.84846996715\n",
      "Mediana da Renda: 55000.0\n",
      "Quartis da Renda:\n",
      "0.25    38500.0\n",
      "0.50    55000.0\n",
      "0.75    79200.0\n",
      "Name: Renda, dtype: float64\n",
      "Percentil 90 da Renda: 110004.0\n"
     ]
    }
   ],
   "source": [
    "# Estatísticas do Status de Empréstimo\n",
    "print(df['Status_Empréstimo'].value_counts(normalize=True))\n",
    "\n",
    "# Exibir a média e mediana da Renda\n",
    "print(\"Média da Renda:\", df['Renda'].mean())\n",
    "print(\"Mediana da Renda:\", df['Renda'].median())\n",
    "\n",
    "# Exibir os quartis da Renda\n",
    "print(\"Quartis da Renda:\")\n",
    "print(df['Renda'].quantile([0.25, 0.5, 0.75]))\n",
    "\n",
    "# Exibir percentis específicos da Renda\n",
    "percentil_90 = df['Renda'].quantile(0.90)\n",
    "print(\"Percentil 90 da Renda:\", percentil_90)\n"
   ]
  },
  {
   "cell_type": "markdown",
   "metadata": {},
   "source": [
    "### Análise de Risco\n",
    "\n",
    "#### Quais pessoas ganham acima do máximo e mínimo?\n"
   ]
  },
  {
   "cell_type": "code",
   "execution_count": 174,
   "metadata": {},
   "outputs": [
    {
     "name": "stdout",
     "output_type": "stream",
     "text": [
      "Pessoas que ganham acima do máximo: Empty DataFrame\n",
      "Columns: [Idade, Renda, Propriedade_Casa, Tempo_Emprego, Intenção_Empréstimo, Nota_Empréstimo, Valor_Empréstimo, Taxa_Juros, Status_Empréstimo, Percentual_Renda_Empréstimo, Default_Pessoa_Cadastro, Histórico_Crédito]\n",
      "Index: []\n",
      "Pessoas que ganham abaixo do mínimo: Empty DataFrame\n",
      "Columns: [Idade, Renda, Propriedade_Casa, Tempo_Emprego, Intenção_Empréstimo, Nota_Empréstimo, Valor_Empréstimo, Taxa_Juros, Status_Empréstimo, Percentual_Renda_Empréstimo, Default_Pessoa_Cadastro, Histórico_Crédito]\n",
      "Index: []\n"
     ]
    }
   ],
   "source": [
    "# Identificar valores máximos e mínimos de Renda\n",
    "max_renda = df['Renda'].max()\n",
    "min_renda = df['Renda'].min()\n",
    "\n",
    "# Pessoas que ganham acima do máximo e mínimo\n",
    "pessoas_acima_max = df[df['Renda'] > max_renda]\n",
    "pessoas_abaixo_min = df[df['Renda'] < min_renda]\n",
    "\n",
    "print(\"Pessoas que ganham acima do máximo:\", pessoas_acima_max)\n",
    "print(\"Pessoas que ganham abaixo do mínimo:\", pessoas_abaixo_min)\n"
   ]
  },
  {
   "cell_type": "markdown",
   "metadata": {},
   "source": [
    "#### Quais pessoas têm risco em emprestar?\n"
   ]
  },
  {
   "cell_type": "code",
   "execution_count": 175,
   "metadata": {},
   "outputs": [
    {
     "name": "stdout",
     "output_type": "stream",
     "text": [
      "Pessoas com risco em emprestar:\n",
      "Empty DataFrame\n",
      "Columns: [Idade, Renda, Propriedade_Casa, Tempo_Emprego, Intenção_Empréstimo, Nota_Empréstimo, Valor_Empréstimo, Taxa_Juros, Status_Empréstimo, Percentual_Renda_Empréstimo, Default_Pessoa_Cadastro, Histórico_Crédito]\n",
      "Index: []\n"
     ]
    }
   ],
   "source": [
    "# Filtrar pessoas com status de empréstimo 'denied'\n",
    "pessoas_risco = df[df['Status_Empréstimo'] == 'denied']\n",
    "\n",
    "print(\"Pessoas com risco em emprestar:\")\n",
    "print(pessoas_risco)\n"
   ]
  },
  {
   "cell_type": "markdown",
   "metadata": {},
   "source": [
    "## Funções Básicas do Pandas\n",
    "\n",
    "Vamos explorar algumas funções básicas do pandas utilizadas na análise.\n"
   ]
  },
  {
   "cell_type": "markdown",
   "metadata": {},
   "source": [
    "### Retorne o DataFrame da última aula com as duas primeiras linhas como amostras."
   ]
  },
  {
   "cell_type": "code",
   "execution_count": 205,
   "metadata": {},
   "outputs": [
    {
     "data": {
      "text/html": [
       "<div>\n",
       "<style scoped>\n",
       "    .dataframe tbody tr th:only-of-type {\n",
       "        vertical-align: middle;\n",
       "    }\n",
       "\n",
       "    .dataframe tbody tr th {\n",
       "        vertical-align: top;\n",
       "    }\n",
       "\n",
       "    .dataframe thead th {\n",
       "        text-align: right;\n",
       "    }\n",
       "</style>\n",
       "<table border=\"1\" class=\"dataframe\">\n",
       "  <thead>\n",
       "    <tr style=\"text-align: right;\">\n",
       "      <th></th>\n",
       "      <th>Idade</th>\n",
       "      <th>Renda</th>\n",
       "      <th>Propriedade_Casa</th>\n",
       "      <th>Tempo_Emprego</th>\n",
       "      <th>Intenção_Empréstimo</th>\n",
       "      <th>Nota_Empréstimo</th>\n",
       "      <th>Valor_Empréstimo</th>\n",
       "      <th>Taxa_Juros</th>\n",
       "      <th>Status_Empréstimo</th>\n",
       "      <th>Percentual_Renda_Empréstimo</th>\n",
       "      <th>Default_Pessoa_Cadastro</th>\n",
       "      <th>Histórico_Crédito</th>\n",
       "    </tr>\n",
       "  </thead>\n",
       "  <tbody>\n",
       "    <tr>\n",
       "      <th>0</th>\n",
       "      <td>22</td>\n",
       "      <td>59000</td>\n",
       "      <td>RENT</td>\n",
       "      <td>123.0</td>\n",
       "      <td>PERSONAL</td>\n",
       "      <td>D</td>\n",
       "      <td>35000</td>\n",
       "      <td>16.02</td>\n",
       "      <td>1</td>\n",
       "      <td>0.59</td>\n",
       "      <td>Y</td>\n",
       "      <td>3</td>\n",
       "    </tr>\n",
       "    <tr>\n",
       "      <th>1</th>\n",
       "      <td>21</td>\n",
       "      <td>9600</td>\n",
       "      <td>OWN</td>\n",
       "      <td>5.0</td>\n",
       "      <td>EDUCATION</td>\n",
       "      <td>B</td>\n",
       "      <td>1000</td>\n",
       "      <td>11.14</td>\n",
       "      <td>0</td>\n",
       "      <td>0.10</td>\n",
       "      <td>N</td>\n",
       "      <td>2</td>\n",
       "    </tr>\n",
       "  </tbody>\n",
       "</table>\n",
       "</div>"
      ],
      "text/plain": [
       "   Idade  Renda Propriedade_Casa  Tempo_Emprego Intenção_Empréstimo  \\\n",
       "0     22  59000             RENT          123.0            PERSONAL   \n",
       "1     21   9600              OWN            5.0           EDUCATION   \n",
       "\n",
       "  Nota_Empréstimo  Valor_Empréstimo  Taxa_Juros  Status_Empréstimo  \\\n",
       "0               D             35000       16.02                  1   \n",
       "1               B              1000       11.14                  0   \n",
       "\n",
       "   Percentual_Renda_Empréstimo Default_Pessoa_Cadastro  Histórico_Crédito  \n",
       "0                         0.59                       Y                  3  \n",
       "1                         0.10                       N                  2  "
      ]
     },
     "execution_count": 205,
     "metadata": {},
     "output_type": "execute_result"
    }
   ],
   "source": [
    "credit_risk = df.head(2)\n",
    "\n",
    "credit_risk"
   ]
  },
  {
   "cell_type": "markdown",
   "metadata": {},
   "source": [
    "### Retorne uma tupla com o número de linhas e colunas"
   ]
  },
  {
   "cell_type": "code",
   "execution_count": 208,
   "metadata": {},
   "outputs": [
    {
     "data": {
      "text/plain": [
       "(2, 12)"
      ]
     },
     "execution_count": 208,
     "metadata": {},
     "output_type": "execute_result"
    }
   ],
   "source": [
    "credit_risk.shape"
   ]
  },
  {
   "cell_type": "markdown",
   "metadata": {},
   "source": [
    "### Retorne as informações apenas da coluna renda"
   ]
  },
  {
   "cell_type": "code",
   "execution_count": 210,
   "metadata": {},
   "outputs": [
    {
     "name": "stdout",
     "output_type": "stream",
     "text": [
      "<class 'pandas.core.series.Series'>\n",
      "RangeIndex: 2 entries, 0 to 1\n",
      "Series name: Renda\n",
      "Non-Null Count  Dtype\n",
      "--------------  -----\n",
      "2 non-null      int64\n",
      "dtypes: int64(1)\n",
      "memory usage: 148.0 bytes\n"
     ]
    }
   ],
   "source": [
    "credit_risk['Renda'].info()"
   ]
  },
  {
   "cell_type": "markdown",
   "metadata": {},
   "source": [
    "### Mostre os tipos com dtypes"
   ]
  },
  {
   "cell_type": "code",
   "execution_count": 211,
   "metadata": {},
   "outputs": [
    {
     "data": {
      "text/plain": [
       "Idade                            int64\n",
       "Renda                            int64\n",
       "Propriedade_Casa                object\n",
       "Tempo_Emprego                  float64\n",
       "Intenção_Empréstimo             object\n",
       "Nota_Empréstimo                 object\n",
       "Valor_Empréstimo                 int64\n",
       "Taxa_Juros                     float64\n",
       "Status_Empréstimo                int64\n",
       "Percentual_Renda_Empréstimo    float64\n",
       "Default_Pessoa_Cadastro         object\n",
       "Histórico_Crédito                int64\n",
       "dtype: object"
      ]
     },
     "execution_count": 211,
     "metadata": {},
     "output_type": "execute_result"
    }
   ],
   "source": [
    "credit_risk.dtypes"
   ]
  },
  {
   "cell_type": "markdown",
   "metadata": {},
   "source": [
    "# Informações sobre o DataFrame"
   ]
  },
  {
   "cell_type": "code",
   "execution_count": 176,
   "metadata": {},
   "outputs": [
    {
     "name": "stdout",
     "output_type": "stream",
     "text": [
      "<class 'pandas.core.frame.DataFrame'>\n",
      "RangeIndex: 32581 entries, 0 to 32580\n",
      "Data columns (total 12 columns):\n",
      " #   Column                       Non-Null Count  Dtype  \n",
      "---  ------                       --------------  -----  \n",
      " 0   Idade                        32581 non-null  int64  \n",
      " 1   Renda                        32581 non-null  int64  \n",
      " 2   Propriedade_Casa             32581 non-null  object \n",
      " 3   Tempo_Emprego                31686 non-null  float64\n",
      " 4   Intenção_Empréstimo          32581 non-null  object \n",
      " 5   Nota_Empréstimo              32581 non-null  object \n",
      " 6   Valor_Empréstimo             32581 non-null  int64  \n",
      " 7   Taxa_Juros                   29465 non-null  float64\n",
      " 8   Status_Empréstimo            32581 non-null  int64  \n",
      " 9   Percentual_Renda_Empréstimo  32581 non-null  float64\n",
      " 10  Default_Pessoa_Cadastro      32581 non-null  object \n",
      " 11  Histórico_Crédito            32581 non-null  int64  \n",
      "dtypes: float64(3), int64(5), object(4)\n",
      "memory usage: 3.0+ MB\n",
      "None\n"
     ]
    }
   ],
   "source": [
    "print(df.info())"
   ]
  },
  {
   "cell_type": "markdown",
   "metadata": {},
   "source": [
    "# Visualizar últimas 5 linhas"
   ]
  },
  {
   "cell_type": "code",
   "execution_count": 177,
   "metadata": {},
   "outputs": [
    {
     "data": {
      "text/html": [
       "<div>\n",
       "<style scoped>\n",
       "    .dataframe tbody tr th:only-of-type {\n",
       "        vertical-align: middle;\n",
       "    }\n",
       "\n",
       "    .dataframe tbody tr th {\n",
       "        vertical-align: top;\n",
       "    }\n",
       "\n",
       "    .dataframe thead th {\n",
       "        text-align: right;\n",
       "    }\n",
       "</style>\n",
       "<table border=\"1\" class=\"dataframe\">\n",
       "  <thead>\n",
       "    <tr style=\"text-align: right;\">\n",
       "      <th></th>\n",
       "      <th>Idade</th>\n",
       "      <th>Renda</th>\n",
       "      <th>Propriedade_Casa</th>\n",
       "      <th>Tempo_Emprego</th>\n",
       "      <th>Intenção_Empréstimo</th>\n",
       "      <th>Nota_Empréstimo</th>\n",
       "      <th>Valor_Empréstimo</th>\n",
       "      <th>Taxa_Juros</th>\n",
       "      <th>Status_Empréstimo</th>\n",
       "      <th>Percentual_Renda_Empréstimo</th>\n",
       "      <th>Default_Pessoa_Cadastro</th>\n",
       "      <th>Histórico_Crédito</th>\n",
       "    </tr>\n",
       "  </thead>\n",
       "  <tbody>\n",
       "    <tr>\n",
       "      <th>32576</th>\n",
       "      <td>57</td>\n",
       "      <td>53000</td>\n",
       "      <td>MORTGAGE</td>\n",
       "      <td>1.0</td>\n",
       "      <td>PERSONAL</td>\n",
       "      <td>C</td>\n",
       "      <td>5800</td>\n",
       "      <td>13.16</td>\n",
       "      <td>0</td>\n",
       "      <td>0.11</td>\n",
       "      <td>N</td>\n",
       "      <td>30</td>\n",
       "    </tr>\n",
       "    <tr>\n",
       "      <th>32577</th>\n",
       "      <td>54</td>\n",
       "      <td>120000</td>\n",
       "      <td>MORTGAGE</td>\n",
       "      <td>4.0</td>\n",
       "      <td>PERSONAL</td>\n",
       "      <td>A</td>\n",
       "      <td>17625</td>\n",
       "      <td>7.49</td>\n",
       "      <td>0</td>\n",
       "      <td>0.15</td>\n",
       "      <td>N</td>\n",
       "      <td>19</td>\n",
       "    </tr>\n",
       "    <tr>\n",
       "      <th>32578</th>\n",
       "      <td>65</td>\n",
       "      <td>76000</td>\n",
       "      <td>RENT</td>\n",
       "      <td>3.0</td>\n",
       "      <td>HOMEIMPROVEMENT</td>\n",
       "      <td>B</td>\n",
       "      <td>35000</td>\n",
       "      <td>10.99</td>\n",
       "      <td>1</td>\n",
       "      <td>0.46</td>\n",
       "      <td>N</td>\n",
       "      <td>28</td>\n",
       "    </tr>\n",
       "    <tr>\n",
       "      <th>32579</th>\n",
       "      <td>56</td>\n",
       "      <td>150000</td>\n",
       "      <td>MORTGAGE</td>\n",
       "      <td>5.0</td>\n",
       "      <td>PERSONAL</td>\n",
       "      <td>B</td>\n",
       "      <td>15000</td>\n",
       "      <td>11.48</td>\n",
       "      <td>0</td>\n",
       "      <td>0.10</td>\n",
       "      <td>N</td>\n",
       "      <td>26</td>\n",
       "    </tr>\n",
       "    <tr>\n",
       "      <th>32580</th>\n",
       "      <td>66</td>\n",
       "      <td>42000</td>\n",
       "      <td>RENT</td>\n",
       "      <td>2.0</td>\n",
       "      <td>MEDICAL</td>\n",
       "      <td>B</td>\n",
       "      <td>6475</td>\n",
       "      <td>9.99</td>\n",
       "      <td>0</td>\n",
       "      <td>0.15</td>\n",
       "      <td>N</td>\n",
       "      <td>30</td>\n",
       "    </tr>\n",
       "  </tbody>\n",
       "</table>\n",
       "</div>"
      ],
      "text/plain": [
       "       Idade   Renda Propriedade_Casa  Tempo_Emprego Intenção_Empréstimo  \\\n",
       "32576     57   53000         MORTGAGE            1.0            PERSONAL   \n",
       "32577     54  120000         MORTGAGE            4.0            PERSONAL   \n",
       "32578     65   76000             RENT            3.0     HOMEIMPROVEMENT   \n",
       "32579     56  150000         MORTGAGE            5.0            PERSONAL   \n",
       "32580     66   42000             RENT            2.0             MEDICAL   \n",
       "\n",
       "      Nota_Empréstimo  Valor_Empréstimo  Taxa_Juros  Status_Empréstimo  \\\n",
       "32576               C              5800       13.16                  0   \n",
       "32577               A             17625        7.49                  0   \n",
       "32578               B             35000       10.99                  1   \n",
       "32579               B             15000       11.48                  0   \n",
       "32580               B              6475        9.99                  0   \n",
       "\n",
       "       Percentual_Renda_Empréstimo Default_Pessoa_Cadastro  Histórico_Crédito  \n",
       "32576                         0.11                       N                 30  \n",
       "32577                         0.15                       N                 19  \n",
       "32578                         0.46                       N                 28  \n",
       "32579                         0.10                       N                 26  \n",
       "32580                         0.15                       N                 30  "
      ]
     },
     "execution_count": 177,
     "metadata": {},
     "output_type": "execute_result"
    }
   ],
   "source": [
    "df.tail(5)"
   ]
  },
  {
   "cell_type": "markdown",
   "metadata": {},
   "source": []
  },
  {
   "cell_type": "code",
   "execution_count": null,
   "metadata": {},
   "outputs": [],
   "source": []
  },
  {
   "cell_type": "markdown",
   "metadata": {},
   "source": [
    "# Verificar a quantidade de valores nulos por coluna"
   ]
  },
  {
   "cell_type": "code",
   "execution_count": 185,
   "metadata": {},
   "outputs": [
    {
     "name": "stdout",
     "output_type": "stream",
     "text": [
      "Valores nulos antes do tratamento:\n",
      "Idade                             0\n",
      "Renda                             0\n",
      "Propriedade_Casa                  0\n",
      "Tempo_Emprego                   895\n",
      "Intenção_Empréstimo               0\n",
      "Nota_Empréstimo                   0\n",
      "Valor_Empréstimo                  0\n",
      "Taxa_Juros                     3116\n",
      "Status_Empréstimo                 0\n",
      "Percentual_Renda_Empréstimo       0\n",
      "Default_Pessoa_Cadastro           0\n",
      "Histórico_Crédito                 0\n",
      "dtype: int64\n"
     ]
    }
   ],
   "source": [
    "df.rename(columns=colunas_novas, inplace=True)\n",
    "print(\"Valores nulos antes do tratamento:\")\n",
    "print(df.isnull().sum())"
   ]
  },
  {
   "cell_type": "markdown",
   "metadata": {},
   "source": [
    "# Substituir valores nulos"
   ]
  },
  {
   "cell_type": "markdown",
   "metadata": {},
   "source": [
    "# por média"
   ]
  },
  {
   "cell_type": "code",
   "execution_count": 200,
   "metadata": {},
   "outputs": [],
   "source": [
    "df['Tempo_Emprego'] = df['Tempo_Emprego'].fillna(df['Tempo_Emprego'].mean())\n",
    "df['Taxa_Juros'] = df['Taxa_Juros'].fillna(df['Taxa_Juros'].mean())"
   ]
  },
  {
   "cell_type": "markdown",
   "metadata": {},
   "source": [
    "por moda"
   ]
  },
  {
   "cell_type": "markdown",
   "metadata": {},
   "source": [
    "# Verificar após o tratamento"
   ]
  },
  {
   "cell_type": "code",
   "execution_count": 202,
   "metadata": {},
   "outputs": [
    {
     "name": "stdout",
     "output_type": "stream",
     "text": [
      "Valores nulos após o tratamento:\n",
      "Idade                          0\n",
      "Renda                          0\n",
      "Propriedade_Casa               0\n",
      "Tempo_Emprego                  0\n",
      "Intenção_Empréstimo            0\n",
      "Nota_Empréstimo                0\n",
      "Valor_Empréstimo               0\n",
      "Taxa_Juros                     0\n",
      "Status_Empréstimo              0\n",
      "Percentual_Renda_Empréstimo    0\n",
      "Default_Pessoa_Cadastro        0\n",
      "Histórico_Crédito              0\n",
      "dtype: int64\n"
     ]
    }
   ],
   "source": [
    "print(\"Valores nulos após o tratamento:\")\n",
    "print(df.isnull().sum())"
   ]
  },
  {
   "cell_type": "markdown",
   "metadata": {},
   "source": [
    "### Criar categorias para a coluna 'Percentual_Renda_Empréstimo'"
   ]
  },
  {
   "cell_type": "code",
   "execution_count": 226,
   "metadata": {},
   "outputs": [],
   "source": [
    "grafico_percent = credit_risk.groupby('Percentual_Renda_Empréstimo')['Tempo_Emprego'].sum().sort_values()"
   ]
  },
  {
   "cell_type": "markdown",
   "metadata": {},
   "source": [
    "### Criar gráfico de barras"
   ]
  },
  {
   "cell_type": "code",
   "execution_count": 229,
   "metadata": {},
   "outputs": [
    {
     "data": {
      "text/plain": [
       "<Axes: xlabel='Percentual_Renda_Empréstimo', ylabel='Density'>"
      ]
     },
     "execution_count": 229,
     "metadata": {},
     "output_type": "execute_result"
    },
    {
     "data": {
      "image/png": "[encoded data removed]",
      "text/plain": [
       "<Figure size 1000x600 with 1 Axes>"
      ]
     },
     "metadata": {},
     "output_type": "display_data"
    }
   ],
   "source": [
    "plt.figure(figsize=(10, 6))\n",
    "sns.kdeplot(df['Percentual_Renda_Empréstimo'], fill=True)"
   ]
  }
 ],
 "metadata": {
  "kernelspec": {
   "display_name": ".venv",
   "language": "python",
   "name": "python3"
  },
  "language_info": {
   "codemirror_mode": {
    "name": "ipython",
    "version": 3
   },
   "file_extension": ".py",
   "mimetype": "text/x-python",
   "name": "python",
   "nbconvert_exporter": "python",
   "pygments_lexer": "ipython3",
   "version": "3.12.5"
  }
 },
 "nbformat": 4,
 "nbformat_minor": 2
}
